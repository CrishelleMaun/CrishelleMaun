{
  "nbformat": 4,
  "nbformat_minor": 0,
  "metadata": {
    "colab": {
      "name": "SampleCode",
      "provenance": [],
      "collapsed_sections": [],
      "authorship_tag": "ABX9TyNwl4R3dVAVNajpu5C/XsLn",
      "include_colab_link": true
    },
    "kernelspec": {
      "name": "python3",
      "display_name": "Python 3"
    },
    "language_info": {
      "name": "python"
    }
  },
  "cells": [
    {
      "cell_type": "markdown",
      "metadata": {
        "id": "view-in-github",
        "colab_type": "text"
      },
      "source": [
        "<a href=\"https://colab.research.google.com/github/CrishelleMaun/CrishelleMaun/blob/main/SampleCode.ipynb\" target=\"_parent\"><img src=\"https://colab.research.google.com/assets/colab-badge.svg\" alt=\"Open In Colab\"/></a>"
      ]
    },
    {
      "cell_type": "code",
      "metadata": {
        "id": "zeAJqlK_YXML"
      },
      "source": [
        "message = \"Hi, I'm CJ!\"\n",
        "print(message)"
      ],
      "execution_count": null,
      "outputs": []
    }
  ]
}