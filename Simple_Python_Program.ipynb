{
  "nbformat": 4,
  "nbformat_minor": 0,
  "metadata": {
    "colab": {
      "name": "Simple Python Program",
      "provenance": [],
      "collapsed_sections": [],
      "authorship_tag": "ABX9TyN2gxuQjS+hUOI3vtPacAHo",
      "include_colab_link": true
    },
    "kernelspec": {
      "name": "python3",
      "display_name": "Python 3"
    },
    "language_info": {
      "name": "python"
    }
  },
  "cells": [
    {
      "cell_type": "markdown",
      "metadata": {
        "id": "view-in-github",
        "colab_type": "text"
      },
      "source": [
        "<a href=\"https://colab.research.google.com/github/CrishelleMaun/CrishelleMaun/blob/main/Simple_Python_Program.ipynb\" target=\"_parent\"><img src=\"https://colab.research.google.com/assets/colab-badge.svg\" alt=\"Open In Colab\"/></a>"
      ]
    },
    {
      "cell_type": "code",
      "metadata": {
        "id": "Rfp67AQLZAIU"
      },
      "source": [
        "#1.) A simple program that will ask your FULL NAME and will display your FULL NAME output in Horizontal and Vertical form.\n",
        "FName = input('Enter Your Full Name: ')\n",
        "\n",
        "print('\\n')\n",
        "\n",
        "print('Horizontal Form')\n",
        "print(FName)\n",
        "\n",
        "print('\\n')\n",
        "\n",
        "print('Vertical Form')\n",
        "for FullName in FName: \n",
        "  print(FullName) "
      ],
      "execution_count": null,
      "outputs": []
    },
    {
      "cell_type": "code",
      "metadata": {
        "id": "PpimF-rlAjlb"
      },
      "source": [
        "#2.) Using dropdown list, create a program that will output the name of the Month if the input is its numeric equivalent. Example:\n",
        "#If input is 2, the output is February, if input is 12, then the output is December.\n",
        "\n",
        "Month = 'January' #@param [\"January\", \"February\",\"March\", \"April\", \"May\", \"June\", \"July\", \"August\", \"September\", \"October\", \"November\", \"December\"] \n",
        "MNumber = input('Enter A Number: ')\n",
        "\n",
        "if MNumber == '1':\n",
        "\tprint('January')\n",
        "elif MNumber in '2':\n",
        "\tprint('February')\n",
        "elif MNumber in '3':\n",
        "\tprint('March')\n",
        "elif MNumber in '4':\n",
        "\tprint('April')\n",
        "elif MNumber in '5':\n",
        "\tprint('May')\n",
        "elif MNumber in '6':\n",
        "\tprint('June')\n",
        "elif MNumber in '7':\n",
        "\tprint('July')\n",
        "elif MNumber in '8':\n",
        "\tprint('August')\n",
        "elif MNumber in '9':\n",
        "\tprint('September')\n",
        "elif MNumber in '10':\n",
        "\tprint('October')\n",
        "elif MNumber in '11':\n",
        "\tprint('November')\n",
        "elif MNumber in '12':\n",
        "\tprint('December')\n",
        "else:\n",
        "\tprint('Invalid Number')"
      ],
      "execution_count": null,
      "outputs": []
    },
    {
      "cell_type": "code",
      "metadata": {
        "id": "rKt0biy6VL3s"
      },
      "source": [
        "#3.) A simple program that will ask for 10 names and will display it in a 2 column table. \n",
        "print ('Enter A Names: ')\n",
        "name1 = input() \n",
        "name2 = input()\n",
        "name3 = input()\n",
        "name4 = input()\n",
        "name5 = input()\n",
        "name6 = input()\n",
        "name7 = input()\n",
        "name8 = input()\n",
        "name9= input()\n",
        "name10 = input()\n",
        "\n",
        "names = [\n",
        "    [name1, name6],\n",
        "    [name2, name7], \n",
        "    [name3, name8], \n",
        "    [name4, name9], \n",
        "    [name5, name10]\n",
        "]\n",
        "\n",
        "print ('\\n')\n",
        "\n",
        "for column in names:\n",
        "    print(\"{: <10} {: <10}\".format(*column))"
      ],
      "execution_count": null,
      "outputs": []
    }
  ]
}